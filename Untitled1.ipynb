{
  "nbformat": 4,
  "nbformat_minor": 0,
  "metadata": {
    "colab": {
      "provenance": [],
      "authorship_tag": "ABX9TyPF1Jv8dbqd/ZuMnw3/nS2R",
      "include_colab_link": true
    },
    "kernelspec": {
      "name": "python3",
      "display_name": "Python 3"
    },
    "language_info": {
      "name": "python"
    }
  },
  "cells": [
    {
      "cell_type": "markdown",
      "metadata": {
        "id": "view-in-github",
        "colab_type": "text"
      },
      "source": [
        "<a href=\"https://colab.research.google.com/github/thiagodemorais87/Estudando/blob/main/Untitled1.ipynb\" target=\"_parent\"><img src=\"https://colab.research.google.com/assets/colab-badge.svg\" alt=\"Open In Colab\"/></a>"
      ]
    },
    {
      "cell_type": "code",
      "execution_count": 13,
      "metadata": {
        "colab": {
          "base_uri": "https://localhost:8080/"
        },
        "id": "FkHziYGl3Gfi",
        "outputId": "b122f68e-b263-49ed-a77f-0d0c172ad9c2"
      },
      "outputs": [
        {
          "output_type": "stream",
          "name": "stdout",
          "text": [
            "Vendedor: João\n",
            "Salário Base: 1500\n",
            "Comissão: 500.0\n",
            "Salário Total: 2000.0\n",
            "Adminintrativo: Maria\n",
            "Salário Base: 2000\n",
            "Valor das Horas Extras: 400.0\n",
            "Salário Total: 2400.0\n"
          ]
        }
      ],
      "source": [
        "class Funcionario:\n",
        "    def __init__(self, nome, rg, salario_base):\n",
        "        self.nome = nome\n",
        "        self.rg = rg\n",
        "        self.salario_base = salario_base\n",
        "    def hollerith(self):\n",
        "        pass\n",
        "class Vendedor(Funcionario):\n",
        "    def __init__(self, nome, rg, salario_base):\n",
        "        super().__init__(nome, rg, salario_base)\n",
        "        self.total_vendas = 0\n",
        "    def informar_venda(self, valor):\n",
        "        self.total_vendas += valor\n",
        "    def hollerith(self):\n",
        "        comissao = 0.05 * self.total_vendas\n",
        "        salario_total = self.salario_base + comissao\n",
        "        print(f\"Vendedor: {self.nome}\")\n",
        "        print(f\"Salário Base: {self.salario_base}\")\n",
        "        print(f\"Comissão: {comissao}\")\n",
        "        print(f\"Salário Total: {salario_total}\")\n",
        "        self.total_vendas = 0\n",
        "class Admin(Funcionario):\n",
        "    def __init__(self, nome, rg, salario_base):\n",
        "        super().__init__(nome, rg, salario_base)\n",
        "        self.horas_extras = 0\n",
        "    def informar_horas_extras(self, horas):\n",
        "        self.horas_extras += horas\n",
        "    def hollerith(self):\n",
        "        valor_horas_extras = 0.01 * self.horas_extras * self.salario_base\n",
        "        salario_total = self.salario_base + valor_horas_extras\n",
        "        print(f\"Adminintrativo: {self.nome}\")\n",
        "        print(f\"Salário Base: {self.salario_base}\")\n",
        "        print(f\"Valor das Horas Extras: {valor_horas_extras}\")\n",
        "        print(f\"Salário Total: {salario_total}\")\n",
        "        self.horas_extras = 0  # Zera o valor acumulado de horas extras\n",
        "vendedor1 = Vendedor(\"João\", \"12345\", 1500)\n",
        "administrativo1 = Admin(\"Maria\", \"67890\", 2000)\n",
        "vendedor1.informar_venda(10000)\n",
        "administrativo1.informar_horas_extras(20)\n",
        "vendedor1.hollerith()\n",
        "administrativo1.hollerith()"
      ]
    }
  ]
}